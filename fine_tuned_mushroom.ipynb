{
 "cells": [
  {
   "cell_type": "markdown",
   "source": [
    "# Fine Tuned Mushroom Model"
   ],
   "metadata": {
    "collapsed": false,
    "pycharm": {
     "name": "#%% md\n"
    }
   }
  },
  {
   "cell_type": "code",
   "execution_count": 2,
   "outputs": [],
   "source": [
    "import pandas as pd\n",
    "import openai\n",
    "import matplotlib"
   ],
   "metadata": {
    "collapsed": false,
    "pycharm": {
     "name": "#%%\n"
    }
   }
  },
  {
   "cell_type": "code",
   "execution_count": 3,
   "outputs": [
    {
     "data": {
      "text/plain": "  class cap-shape cap-surface cap-color bruises odor gill-attachment  \\\n0     p         x           s         n       t    p               f   \n1     e         x           s         y       t    a               f   \n2     e         b           s         w       t    l               f   \n3     p         x           y         w       t    p               f   \n4     e         x           s         g       f    n               f   \n\n  gill-spacing gill-size gill-color  ... stalk-surface-below-ring  \\\n0            c         n          k  ...                        s   \n1            c         b          k  ...                        s   \n2            c         b          n  ...                        s   \n3            c         n          n  ...                        s   \n4            w         b          k  ...                        s   \n\n  stalk-color-above-ring stalk-color-below-ring veil-type veil-color  \\\n0                      w                      w         p          w   \n1                      w                      w         p          w   \n2                      w                      w         p          w   \n3                      w                      w         p          w   \n4                      w                      w         p          w   \n\n  ring-number ring-type spore-print-color population habitat  \n0           o         p                 k          s       u  \n1           o         p                 n          n       g  \n2           o         p                 n          n       m  \n3           o         p                 k          s       u  \n4           o         e                 n          a       g  \n\n[5 rows x 23 columns]",
      "text/html": "<div>\n<style scoped>\n    .dataframe tbody tr th:only-of-type {\n        vertical-align: middle;\n    }\n\n    .dataframe tbody tr th {\n        vertical-align: top;\n    }\n\n    .dataframe thead th {\n        text-align: right;\n    }\n</style>\n<table border=\"1\" class=\"dataframe\">\n  <thead>\n    <tr style=\"text-align: right;\">\n      <th></th>\n      <th>class</th>\n      <th>cap-shape</th>\n      <th>cap-surface</th>\n      <th>cap-color</th>\n      <th>bruises</th>\n      <th>odor</th>\n      <th>gill-attachment</th>\n      <th>gill-spacing</th>\n      <th>gill-size</th>\n      <th>gill-color</th>\n      <th>...</th>\n      <th>stalk-surface-below-ring</th>\n      <th>stalk-color-above-ring</th>\n      <th>stalk-color-below-ring</th>\n      <th>veil-type</th>\n      <th>veil-color</th>\n      <th>ring-number</th>\n      <th>ring-type</th>\n      <th>spore-print-color</th>\n      <th>population</th>\n      <th>habitat</th>\n    </tr>\n  </thead>\n  <tbody>\n    <tr>\n      <th>0</th>\n      <td>p</td>\n      <td>x</td>\n      <td>s</td>\n      <td>n</td>\n      <td>t</td>\n      <td>p</td>\n      <td>f</td>\n      <td>c</td>\n      <td>n</td>\n      <td>k</td>\n      <td>...</td>\n      <td>s</td>\n      <td>w</td>\n      <td>w</td>\n      <td>p</td>\n      <td>w</td>\n      <td>o</td>\n      <td>p</td>\n      <td>k</td>\n      <td>s</td>\n      <td>u</td>\n    </tr>\n    <tr>\n      <th>1</th>\n      <td>e</td>\n      <td>x</td>\n      <td>s</td>\n      <td>y</td>\n      <td>t</td>\n      <td>a</td>\n      <td>f</td>\n      <td>c</td>\n      <td>b</td>\n      <td>k</td>\n      <td>...</td>\n      <td>s</td>\n      <td>w</td>\n      <td>w</td>\n      <td>p</td>\n      <td>w</td>\n      <td>o</td>\n      <td>p</td>\n      <td>n</td>\n      <td>n</td>\n      <td>g</td>\n    </tr>\n    <tr>\n      <th>2</th>\n      <td>e</td>\n      <td>b</td>\n      <td>s</td>\n      <td>w</td>\n      <td>t</td>\n      <td>l</td>\n      <td>f</td>\n      <td>c</td>\n      <td>b</td>\n      <td>n</td>\n      <td>...</td>\n      <td>s</td>\n      <td>w</td>\n      <td>w</td>\n      <td>p</td>\n      <td>w</td>\n      <td>o</td>\n      <td>p</td>\n      <td>n</td>\n      <td>n</td>\n      <td>m</td>\n    </tr>\n    <tr>\n      <th>3</th>\n      <td>p</td>\n      <td>x</td>\n      <td>y</td>\n      <td>w</td>\n      <td>t</td>\n      <td>p</td>\n      <td>f</td>\n      <td>c</td>\n      <td>n</td>\n      <td>n</td>\n      <td>...</td>\n      <td>s</td>\n      <td>w</td>\n      <td>w</td>\n      <td>p</td>\n      <td>w</td>\n      <td>o</td>\n      <td>p</td>\n      <td>k</td>\n      <td>s</td>\n      <td>u</td>\n    </tr>\n    <tr>\n      <th>4</th>\n      <td>e</td>\n      <td>x</td>\n      <td>s</td>\n      <td>g</td>\n      <td>f</td>\n      <td>n</td>\n      <td>f</td>\n      <td>w</td>\n      <td>b</td>\n      <td>k</td>\n      <td>...</td>\n      <td>s</td>\n      <td>w</td>\n      <td>w</td>\n      <td>p</td>\n      <td>w</td>\n      <td>o</td>\n      <td>e</td>\n      <td>n</td>\n      <td>a</td>\n      <td>g</td>\n    </tr>\n  </tbody>\n</table>\n<p>5 rows × 23 columns</p>\n</div>"
     },
     "execution_count": 3,
     "metadata": {},
     "output_type": "execute_result"
    }
   ],
   "source": [
    "df = pd.read_csv('mushrooms.csv')\n",
    "\n",
    "df.head()"
   ],
   "metadata": {
    "collapsed": false,
    "pycharm": {
     "name": "#%%\n"
    }
   }
  },
  {
   "cell_type": "markdown",
   "source": [
    "# Preparing Data\n",
    "Data preprocessing for OpenAI format"
   ],
   "metadata": {
    "collapsed": false,
    "pycharm": {
     "name": "#%% md\n"
    }
   }
  },
  {
   "cell_type": "code",
   "execution_count": 3,
   "outputs": [
    {
     "name": "stdout",
     "output_type": "stream",
     "text": [
      "Edible examples: 4208, Poisonous examples: 3916\n"
     ]
    }
   ],
   "source": [
    "edible_df = df[df['class'] == 'e']\n",
    "poisonous_df = df[df['class'] == 'p']\n",
    "\n",
    "print(f'Edible examples: {len(edible_df)}, Poisonous examples: {len(poisonous_df)}')"
   ],
   "metadata": {
    "collapsed": false,
    "pycharm": {
     "name": "#%%\n"
    }
   }
  },
  {
   "cell_type": "code",
   "execution_count": 4,
   "outputs": [],
   "source": [
    "\n",
    "contents = df.iloc[:, 1:].values.tolist()\n",
    "labels = df['class'].values.tolist()"
   ],
   "metadata": {
    "collapsed": false,
    "pycharm": {
     "name": "#%%\n"
    }
   }
  },
  {
   "cell_type": "code",
   "execution_count": 25,
   "outputs": [
    {
     "data": {
      "text/plain": "                                              prompt completion\n0  [x, s, n, t, p, f, c, n, k, e, e, s, s, w, w, ...          p\n1  [x, s, y, t, a, f, c, b, k, e, c, s, s, w, w, ...          e\n2  [b, s, w, t, l, f, c, b, n, e, c, s, s, w, w, ...          e\n3  [x, y, w, t, p, f, c, n, n, e, e, s, s, w, w, ...          p\n4  [x, s, g, f, n, f, w, b, k, t, e, s, s, w, w, ...          e",
      "text/html": "<div>\n<style scoped>\n    .dataframe tbody tr th:only-of-type {\n        vertical-align: middle;\n    }\n\n    .dataframe tbody tr th {\n        vertical-align: top;\n    }\n\n    .dataframe thead th {\n        text-align: right;\n    }\n</style>\n<table border=\"1\" class=\"dataframe\">\n  <thead>\n    <tr style=\"text-align: right;\">\n      <th></th>\n      <th>prompt</th>\n      <th>completion</th>\n    </tr>\n  </thead>\n  <tbody>\n    <tr>\n      <th>0</th>\n      <td>[x, s, n, t, p, f, c, n, k, e, e, s, s, w, w, ...</td>\n      <td>p</td>\n    </tr>\n    <tr>\n      <th>1</th>\n      <td>[x, s, y, t, a, f, c, b, k, e, c, s, s, w, w, ...</td>\n      <td>e</td>\n    </tr>\n    <tr>\n      <th>2</th>\n      <td>[b, s, w, t, l, f, c, b, n, e, c, s, s, w, w, ...</td>\n      <td>e</td>\n    </tr>\n    <tr>\n      <th>3</th>\n      <td>[x, y, w, t, p, f, c, n, n, e, e, s, s, w, w, ...</td>\n      <td>p</td>\n    </tr>\n    <tr>\n      <th>4</th>\n      <td>[x, s, g, f, n, f, w, b, k, t, e, s, s, w, w, ...</td>\n      <td>e</td>\n    </tr>\n  </tbody>\n</table>\n</div>"
     },
     "execution_count": 25,
     "metadata": {},
     "output_type": "execute_result"
    }
   ],
   "source": [
    "df_prepared = pd.DataFrame(zip(contents, labels), columns=['prompt', 'completion'])\n",
    "df_prepared.head()"
   ],
   "metadata": {
    "collapsed": false,
    "pycharm": {
     "name": "#%%\n"
    }
   }
  },
  {
   "cell_type": "code",
   "execution_count": 26,
   "outputs": [],
   "source": [
    "df_prepared.to_json(\"mushrooms.jsonl\", orient='records', lines=True)"
   ],
   "metadata": {
    "collapsed": false,
    "pycharm": {
     "name": "#%%\n"
    }
   }
  },
  {
   "cell_type": "markdown",
   "source": [
    "# Install openai tool and train model"
   ],
   "metadata": {
    "collapsed": false,
    "pycharm": {
     "name": "#%% md\n"
    }
   }
  },
  {
   "cell_type": "code",
   "execution_count": 27,
   "outputs": [
    {
     "name": "stdout",
     "output_type": "stream",
     "text": [
      "Requirement already satisfied: openai in ./venv/lib/python3.10/site-packages (0.23.1)\r\n",
      "Requirement already satisfied: pandas>=1.2.3 in ./venv/lib/python3.10/site-packages (from openai) (1.5.1)\r\n",
      "Requirement already satisfied: tqdm in ./venv/lib/python3.10/site-packages (from openai) (4.64.1)\r\n",
      "Requirement already satisfied: pandas-stubs>=1.1.0.11 in ./venv/lib/python3.10/site-packages (from openai) (1.5.0.221012)\r\n",
      "Requirement already satisfied: openpyxl>=3.0.7 in ./venv/lib/python3.10/site-packages (from openai) (3.0.10)\r\n",
      "Requirement already satisfied: requests>=2.20 in ./venv/lib/python3.10/site-packages (from openai) (2.28.1)\r\n",
      "Requirement already satisfied: numpy in ./venv/lib/python3.10/site-packages (from openai) (1.23.4)\r\n",
      "Requirement already satisfied: typing-extensions in ./venv/lib/python3.10/site-packages (from openai) (4.4.0)\r\n",
      "Requirement already satisfied: et-xmlfile in ./venv/lib/python3.10/site-packages (from openpyxl>=3.0.7->openai) (1.1.0)\r\n",
      "Requirement already satisfied: python-dateutil>=2.8.1 in ./venv/lib/python3.10/site-packages (from pandas>=1.2.3->openai) (2.8.2)\r\n",
      "Requirement already satisfied: pytz>=2020.1 in ./venv/lib/python3.10/site-packages (from pandas>=1.2.3->openai) (2022.5)\r\n",
      "Requirement already satisfied: types-pytz>=2022.1.1 in ./venv/lib/python3.10/site-packages (from pandas-stubs>=1.1.0.11->openai) (2022.5.0.0)\r\n",
      "Requirement already satisfied: certifi>=2017.4.17 in ./venv/lib/python3.10/site-packages (from requests>=2.20->openai) (2022.9.24)\r\n",
      "Requirement already satisfied: urllib3<1.27,>=1.21.1 in ./venv/lib/python3.10/site-packages (from requests>=2.20->openai) (1.26.12)\r\n",
      "Requirement already satisfied: idna<4,>=2.5 in ./venv/lib/python3.10/site-packages (from requests>=2.20->openai) (3.4)\r\n",
      "Requirement already satisfied: charset-normalizer<3,>=2 in ./venv/lib/python3.10/site-packages (from requests>=2.20->openai) (2.1.1)\r\n",
      "Requirement already satisfied: six>=1.5 in ./venv/lib/python3.10/site-packages (from python-dateutil>=2.8.1->pandas>=1.2.3->openai) (1.16.0)\r\n",
      "\u001B[33mWARNING: You are using pip version 21.3.1; however, version 22.3 is available.\r\n",
      "You should consider upgrading via the '/home/juca/PycharmProjects/openAI/venv/bin/python -m pip install --upgrade pip' command.\u001B[0m\r\n"
     ]
    }
   ],
   "source": [
    "!pip install --upgrade openai"
   ],
   "metadata": {
    "collapsed": false,
    "pycharm": {
     "name": "#%%\n"
    }
   }
  },
  {
   "cell_type": "code",
   "execution_count": 28,
   "outputs": [
    {
     "name": "stdout",
     "output_type": "stream",
     "text": [
      "Analyzing...\r\n",
      "\r\n",
      "- Your file contains 8124 prompt-completion pairs\r\n",
      "- Based on your data it seems like you're trying to fine-tune a model for classification\r\n",
      "- For classification, we recommend you try one of the faster and cheaper models, such as `ada`\r\n",
      "- For classification, you can estimate the expected model performance by keeping a held out dataset, which is not used for training\r\n",
      "- All prompts end with suffix `']`\r\n",
      "- All prompts start with prefix `['`\r\n",
      "- The completion should start with a whitespace character (` `). This tends to produce better results due to the tokenization we use. See https://beta.openai.com/docs/guides/fine-tuning/preparing-your-dataset for more details\r\n",
      "\r\n",
      "Based on the analysis we will perform the following actions:\r\n",
      "- [Recommended] Add a whitespace character to the beginning of the completion [Y/n]: Y\r\n",
      "- [Recommended] Would you like to split into training and validation set? [Y/n]: Y\r\n",
      "\r\n",
      "\r\n",
      "Your data will be written to a new JSONL file. Proceed [Y/n]: Y\r\n",
      "\r\n",
      "Wrote modified files to `mushrooms_prepared_train.jsonl` and `mushrooms_prepared_valid.jsonl`\r\n",
      "Feel free to take a look!\r\n",
      "\r\n",
      "Now use that file when fine-tuning:\r\n",
      "> openai api fine_tunes.create -t \"mushrooms_prepared_train.jsonl\" -v \"mushrooms_prepared_valid.jsonl\" --compute_classification_metrics --classification_positive_class \" e\"\r\n",
      "\r\n",
      "After you’ve fine-tuned a model, remember that your prompt has to end with the indicator string `']` for the model to start generating completions, rather than continuing with the prompt.\r\n",
      "Once your model starts training, it'll approximately take 3.29 hours to train a `curie` model, and less for `ada` and `babbage`. Queue will approximately take half an hour per job ahead of you.\r\n"
     ]
    }
   ],
   "source": [
    "!openai tools fine_tunes.prepare_data -f mushrooms.jsonl -q"
   ],
   "metadata": {
    "collapsed": false,
    "pycharm": {
     "name": "#%%\n"
    }
   }
  },
  {
   "cell_type": "code",
   "execution_count": 2,
   "outputs": [
    {
     "name": "stdout",
     "output_type": "stream",
     "text": [
      "Upload progress: 100%|█████████████████████| 1.01M/1.01M [00:00<00:00, 573Mit/s]\r\n",
      "Uploaded file from mushrooms_prepared_train.jsonl: file-YgqSMr2m4KakNYnAHJfl0ZYZ\r\n",
      "Upload progress: 100%|███████████████████████| 142k/142k [00:00<00:00, 154Mit/s]\r\n",
      "Uploaded file from mushrooms_prepared_valid.jsonl: file-Q1uRfZVQ84qO2KLdFBFaMKRt\r\n",
      "Created fine-tune: ft-SBcUlGIihn7lGBQENF37cl9W\r\n",
      "Streaming events until fine-tuning is complete...\r\n",
      "\r\n",
      "(Ctrl-C will interrupt the stream, but not cancel the fine-tune)\r\n",
      "[2022-10-20 22:46:49] Created fine-tune: ft-SBcUlGIihn7lGBQENF37cl9W\r\n",
      "[2022-10-20 22:46:59] Fine-tune costs $0.76\r\n",
      "[2022-10-20 22:47:00] Fine-tune enqueued. Queue number: 0\r\n",
      "[2022-10-20 22:47:01] Fine-tune started\r\n",
      "\r\n",
      "Stream interrupted (client disconnected).\r\n",
      "To resume the stream, run:\r\n",
      "\r\n",
      "  openai api fine_tunes.follow -i ft-SBcUlGIihn7lGBQENF37cl9W\r\n",
      "\r\n"
     ]
    }
   ],
   "source": [
    "!openai api fine_tunes.create -m ada -t \"mushrooms_prepared_train.jsonl\" -v \"mushrooms_prepared_valid.jsonl\" --compute_classification_metrics --classification_positive_class \" e\""
   ],
   "metadata": {
    "collapsed": false,
    "pycharm": {
     "name": "#%%\n"
    }
   }
  },
  {
   "cell_type": "code",
   "execution_count": 3,
   "outputs": [
    {
     "name": "stdout",
     "output_type": "stream",
     "text": [
      "[2022-10-20 22:46:49] Created fine-tune: ft-SBcUlGIihn7lGBQENF37cl9W\r\n",
      "[2022-10-20 22:46:59] Fine-tune costs $0.76\r\n",
      "[2022-10-20 22:47:00] Fine-tune enqueued. Queue number: 0\r\n",
      "[2022-10-20 22:47:01] Fine-tune started\r\n",
      "[2022-10-20 22:52:14] Completed epoch 1/4\r\n",
      "[2022-10-20 22:57:25] Completed epoch 2/4\r\n",
      "[2022-10-20 23:02:32] Completed epoch 3/4\r\n",
      "\r\n",
      "Stream interrupted (client disconnected).\r\n",
      "To resume the stream, run:\r\n",
      "\r\n",
      "  openai api fine_tunes.follow -i ft-SBcUlGIihn7lGBQENF37cl9W\r\n",
      "\r\n"
     ]
    }
   ],
   "source": [
    "!openai api fine_tunes.follow -i ft-SBcUlGIihn7lGBQENF37cl9W"
   ],
   "metadata": {
    "collapsed": false,
    "pycharm": {
     "name": "#%%\n"
    }
   }
  },
  {
   "cell_type": "code",
   "execution_count": 4,
   "outputs": [
    {
     "name": "stdout",
     "output_type": "stream",
     "text": [
      "[2022-10-20 22:46:49] Created fine-tune: ft-SBcUlGIihn7lGBQENF37cl9W\r\n",
      "[2022-10-20 22:46:59] Fine-tune costs $0.76\r\n",
      "[2022-10-20 22:47:00] Fine-tune enqueued. Queue number: 0\r\n",
      "[2022-10-20 22:47:01] Fine-tune started\r\n",
      "[2022-10-20 22:52:14] Completed epoch 1/4\r\n",
      "[2022-10-20 22:57:25] Completed epoch 2/4\r\n",
      "[2022-10-20 23:02:32] Completed epoch 3/4\r\n",
      "[2022-10-20 23:07:37] Completed epoch 4/4\r\n",
      "[2022-10-20 23:08:11] Uploaded model: ada:ft-personal-2022-10-21-05-08-11\r\n",
      "[2022-10-20 23:08:12] Uploaded result file: file-LHVD7CAZTfE8cIi81hKkV87s\r\n",
      "[2022-10-20 23:08:12] Fine-tune succeeded\r\n",
      "\r\n",
      "Job complete! Status: succeeded 🎉\r\n",
      "Try out your fine-tuned model:\r\n",
      "\r\n",
      "openai api completions.create -m ada:ft-personal-2022-10-21-05-08-11 -p <YOUR_PROMPT>\r\n"
     ]
    }
   ],
   "source": [
    "!openai api fine_tunes.follow -i ft-SBcUlGIihn7lGBQENF37cl9W"
   ],
   "metadata": {
    "collapsed": false,
    "pycharm": {
     "name": "#%%\n"
    }
   }
  },
  {
   "cell_type": "code",
   "execution_count": 5,
   "outputs": [],
   "source": [
    "!openai api fine_tunes.results -i ft-SBcUlGIihn7lGBQENF37cl9W > result.csv"
   ],
   "metadata": {
    "collapsed": false,
    "pycharm": {
     "name": "#%%\n"
    }
   }
  },
  {
   "cell_type": "markdown",
   "source": [
    "# Visualizing results and validation"
   ],
   "metadata": {
    "collapsed": false,
    "pycharm": {
     "name": "#%% md\n"
    }
   }
  },
  {
   "cell_type": "code",
   "execution_count": 8,
   "outputs": [
    {
     "data": {
      "text/plain": "<AxesSubplot: >"
     },
     "execution_count": 8,
     "metadata": {},
     "output_type": "execute_result"
    },
    {
     "data": {
      "text/plain": "<Figure size 640x480 with 1 Axes>",
      "image/png": "[encoded data removed]"
     },
     "metadata": {},
     "output_type": "display_data"
    }
   ],
   "source": [
    "results = pd.read_csv('result.csv')\n",
    "\n",
    "results[results['classification/accuracy'].notnull()]['classification/accuracy'].plot()"
   ],
   "metadata": {
    "collapsed": false,
    "pycharm": {
     "name": "#%%\n"
    }
   }
  },
  {
   "cell_type": "code",
   "execution_count": 9,
   "outputs": [
    {
     "data": {
      "text/plain": "      step  elapsed_tokens  elapsed_examples  training_loss  \\\n891    892          520928              7136       0.001780   \n1782  1783         1041272             14264       0.001350   \n2673  2674         1561616             21392       0.001297   \n3562  3563         2080792             28504       0.001282   \n\n      training_sequence_accuracy  training_token_accuracy  validation_loss  \\\n891                          1.0                      1.0              NaN   \n1782                         1.0                      1.0              NaN   \n2673                         1.0                      1.0              NaN   \n3562                         1.0                      1.0              NaN   \n\n      validation_sequence_accuracy  validation_token_accuracy  \\\n891                            NaN                        NaN   \n1782                           NaN                        NaN   \n2673                           NaN                        NaN   \n3562                           NaN                        NaN   \n\n      classification/accuracy  classification/precision  \\\n891                       1.0                       1.0   \n1782                      1.0                       1.0   \n2673                      1.0                       1.0   \n3562                      1.0                       1.0   \n\n      classification/recall  classification/auroc  classification/auprc  \\\n891                     1.0                   1.0                   1.0   \n1782                    1.0                   1.0                   1.0   \n2673                    1.0                   1.0                   1.0   \n3562                    1.0                   1.0                   1.0   \n\n      classification/f1.0  \n891                   1.0  \n1782                  1.0  \n2673                  1.0  \n3562                  1.0  ",
      "text/html": "<div>\n<style scoped>\n    .dataframe tbody tr th:only-of-type {\n        vertical-align: middle;\n    }\n\n    .dataframe tbody tr th {\n        vertical-align: top;\n    }\n\n    .dataframe thead th {\n        text-align: right;\n    }\n</style>\n<table border=\"1\" class=\"dataframe\">\n  <thead>\n    <tr style=\"text-align: right;\">\n      <th></th>\n      <th>step</th>\n      <th>elapsed_tokens</th>\n      <th>elapsed_examples</th>\n      <th>training_loss</th>\n      <th>training_sequence_accuracy</th>\n      <th>training_token_accuracy</th>\n      <th>validation_loss</th>\n      <th>validation_sequence_accuracy</th>\n      <th>validation_token_accuracy</th>\n      <th>classification/accuracy</th>\n      <th>classification/precision</th>\n      <th>classification/recall</th>\n      <th>classification/auroc</th>\n      <th>classification/auprc</th>\n      <th>classification/f1.0</th>\n    </tr>\n  </thead>\n  <tbody>\n    <tr>\n      <th>891</th>\n      <td>892</td>\n      <td>520928</td>\n      <td>7136</td>\n      <td>0.001780</td>\n      <td>1.0</td>\n      <td>1.0</td>\n      <td>NaN</td>\n      <td>NaN</td>\n      <td>NaN</td>\n      <td>1.0</td>\n      <td>1.0</td>\n      <td>1.0</td>\n      <td>1.0</td>\n      <td>1.0</td>\n      <td>1.0</td>\n    </tr>\n    <tr>\n      <th>1782</th>\n      <td>1783</td>\n      <td>1041272</td>\n      <td>14264</td>\n      <td>0.001350</td>\n      <td>1.0</td>\n      <td>1.0</td>\n      <td>NaN</td>\n      <td>NaN</td>\n      <td>NaN</td>\n      <td>1.0</td>\n      <td>1.0</td>\n      <td>1.0</td>\n      <td>1.0</td>\n      <td>1.0</td>\n      <td>1.0</td>\n    </tr>\n    <tr>\n      <th>2673</th>\n      <td>2674</td>\n      <td>1561616</td>\n      <td>21392</td>\n      <td>0.001297</td>\n      <td>1.0</td>\n      <td>1.0</td>\n      <td>NaN</td>\n      <td>NaN</td>\n      <td>NaN</td>\n      <td>1.0</td>\n      <td>1.0</td>\n      <td>1.0</td>\n      <td>1.0</td>\n      <td>1.0</td>\n      <td>1.0</td>\n    </tr>\n    <tr>\n      <th>3562</th>\n      <td>3563</td>\n      <td>2080792</td>\n      <td>28504</td>\n      <td>0.001282</td>\n      <td>1.0</td>\n      <td>1.0</td>\n      <td>NaN</td>\n      <td>NaN</td>\n      <td>NaN</td>\n      <td>1.0</td>\n      <td>1.0</td>\n      <td>1.0</td>\n      <td>1.0</td>\n      <td>1.0</td>\n      <td>1.0</td>\n    </tr>\n  </tbody>\n</table>\n</div>"
     },
     "execution_count": 9,
     "metadata": {},
     "output_type": "execute_result"
    }
   ],
   "source": [
    "results[results['classification/accuracy'].notnull()].tail()"
   ],
   "metadata": {
    "collapsed": false,
    "pycharm": {
     "name": "#%%\n"
    }
   }
  },
  {
   "cell_type": "code",
   "execution_count": 10,
   "outputs": [
    {
     "data": {
      "text/plain": "                                              prompt completion\n0  ['x', 's', 'g', 'f', 'n', 'f', 'w', 'b', 'k', ...          e\n1  ['b', 's', 'y', 't', 'a', 'f', 'c', 'b', 'g', ...          e\n2  ['f', 'f', 'w', 'f', 'n', 'f', 'w', 'b', 'k', ...          e\n3  ['b', 'y', 'y', 't', 'l', 'f', 'c', 'b', 'n', ...          e\n4  ['b', 'y', 'w', 't', 'l', 'f', 'c', 'b', 'n', ...          e",
      "text/html": "<div>\n<style scoped>\n    .dataframe tbody tr th:only-of-type {\n        vertical-align: middle;\n    }\n\n    .dataframe tbody tr th {\n        vertical-align: top;\n    }\n\n    .dataframe thead th {\n        text-align: right;\n    }\n</style>\n<table border=\"1\" class=\"dataframe\">\n  <thead>\n    <tr style=\"text-align: right;\">\n      <th></th>\n      <th>prompt</th>\n      <th>completion</th>\n    </tr>\n  </thead>\n  <tbody>\n    <tr>\n      <th>0</th>\n      <td>['x', 's', 'g', 'f', 'n', 'f', 'w', 'b', 'k', ...</td>\n      <td>e</td>\n    </tr>\n    <tr>\n      <th>1</th>\n      <td>['b', 's', 'y', 't', 'a', 'f', 'c', 'b', 'g', ...</td>\n      <td>e</td>\n    </tr>\n    <tr>\n      <th>2</th>\n      <td>['f', 'f', 'w', 'f', 'n', 'f', 'w', 'b', 'k', ...</td>\n      <td>e</td>\n    </tr>\n    <tr>\n      <th>3</th>\n      <td>['b', 'y', 'y', 't', 'l', 'f', 'c', 'b', 'n', ...</td>\n      <td>e</td>\n    </tr>\n    <tr>\n      <th>4</th>\n      <td>['b', 'y', 'w', 't', 'l', 'f', 'c', 'b', 'n', ...</td>\n      <td>e</td>\n    </tr>\n  </tbody>\n</table>\n</div>"
     },
     "execution_count": 10,
     "metadata": {},
     "output_type": "execute_result"
    }
   ],
   "source": [
    "test_df = pd.read_json('mushrooms_prepared_valid.jsonl', lines=True)\n",
    "test_df.head()"
   ],
   "metadata": {
    "collapsed": false,
    "pycharm": {
     "name": "#%%\n"
    }
   }
  },
  {
   "cell_type": "code",
   "execution_count": 16,
   "outputs": [
    {
     "data": {
      "text/plain": "' e'"
     },
     "execution_count": 16,
     "metadata": {},
     "output_type": "execute_result"
    }
   ],
   "source": [
    "ft_model = 'ada:ft-personal-2022-10-21-05-08-11'\n",
    "res = openai.Completion.create(model=ft_model, prompt=test_df['prompt'][0],\n",
    "                               max_tokens=1, temperature=0)\n",
    "\n",
    "res['choices'][0]['text']"
   ],
   "metadata": {
    "collapsed": false,
    "pycharm": {
     "name": "#%%\n"
    }
   }
  },
  {
   "cell_type": "code",
   "execution_count": null,
   "outputs": [],
   "source": [],
   "metadata": {
    "collapsed": false,
    "pycharm": {
     "name": "#%%\n"
    }
   }
  }
 ],
 "metadata": {
  "kernelspec": {
   "display_name": "Python 3",
   "language": "python",
   "name": "python3"
  },
  "language_info": {
   "codemirror_mode": {
    "name": "ipython",
    "version": 2
   },
   "file_extension": ".py",
   "mimetype": "text/x-python",
   "name": "python",
   "nbconvert_exporter": "python",
   "pygments_lexer": "ipython2",
   "version": "2.7.6"
  }
 },
 "nbformat": 4,
 "nbformat_minor": 0
}